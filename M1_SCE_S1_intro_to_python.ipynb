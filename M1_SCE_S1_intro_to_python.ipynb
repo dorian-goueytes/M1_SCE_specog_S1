{
  "nbformat": 4,
  "nbformat_minor": 0,
  "metadata": {
    "colab": {
      "provenance": [],
      "collapsed_sections": [
        "MD6xu46cIenZ",
        "dhElVG0cJBwy",
        "uEAYrlQbJgxg",
        "NlXnMBscKMZw"
      ],
      "authorship_tag": "ABX9TyNXHgAIyWz0WTnYF9FLohs1",
      "include_colab_link": true
    },
    "kernelspec": {
      "name": "python3",
      "display_name": "Python 3"
    },
    "language_info": {
      "name": "python"
    }
  },
  "cells": [
    {
      "cell_type": "markdown",
      "metadata": {
        "id": "view-in-github",
        "colab_type": "text"
      },
      "source": [
        "<a href=\"https://colab.research.google.com/github/dorian-goueytes/M1_SCE_specog_S1/blob/main/M1_SCE_S1_intro_to_python.ipynb\" target=\"_parent\"><img src=\"https://colab.research.google.com/assets/colab-badge.svg\" alt=\"Open In Colab\"/></a>"
      ]
    },
    {
      "cell_type": "markdown",
      "source": [
        "# Notion de Variable\n",
        "\n",
        "#### Une variable correspond à une information stockée en mémoire (RAM).<br> Le plus souvent une variable sera numérique ou booléenne (variable logique).<br><br>Une variable est crée en associant un nom à une valeur avec le signe =<br>En python il n'y a pas besoin d'allouer spécifiquement de la mémoire, cette action est effectué automatiquement.\n",
        "\n",
        "\n"
      ],
      "metadata": {
        "id": "PX0KevvsjR4A"
      }
    },
    {
      "cell_type": "code",
      "execution_count": null,
      "metadata": {
        "id": "_bWTDGFBi-8d"
      },
      "outputs": [],
      "source": [
        "my_var = 1 # cette ligne signifie tout simplement que nous avons stocké en mémoire une variable dont le nom est my_var et dont la valeur est 1\n",
        "# Petite parenthèse, en Python le texte précédé par un # n'est pas executé comme du code, cela s'appelle un commentaire\n",
        "\n",
        "#Comme la valeur de my_var est 1 elle se comporte comme le chiffre 1 par exemple dans des opérations arithmétiques\n",
        "print(\"Ma variable vaut:\",my_var)\n",
        "print(\"Ma variable + 1 vaut:\", my_var+1)\n",
        "print(\"Ma variable *4 vaut:\", my_var*4)\n",
        "#Ecrire my_var*10 ne modifie pas la valeur de my_var, mais indique simplemement le résultat de cette opération\n",
        "print(\"Malgré les opération ci-dessus ma variable vaut toujours:\", my_var)\n",
        "print()\n",
        "#La valeur d'une variable peut être modifié en utilisant à nouveau le signe =\n",
        "my_var = my_var*10\n",
        "print(\"Par contre si je stocke dans ma variable sa propre valeur * 10 sa valeur change\", my_var)"
      ]
    },
    {
      "cell_type": "markdown",
      "source": [
        "# Structures de données\n",
        "\n",
        "#### Une structure de donnée est une manière de stocker en mémoire une collection de variables.<br> Les structures de données les plus classiques en Python sont:\n",
        "\n",
        "*   La liste [identifié par des crochets]\n",
        "*   Le tuple (identifié par des parenthèses)\n",
        "*   Le dictionnaire {identifié par des accolades}\n",
        "*   Le string \"identifié par des apostrophes ou doubles apostrophes\"\n",
        "\n",
        "#### Une caractéristique importante des structures de données est qu'elles sont indexables.<br> Cela signifie que chaque élément peut-être accédé de manière individuelle par sont index (sa position dans la liste).<br>Attention l'indexation en Python commence à 0 et pas a 1.\n",
        "\n",
        "\n",
        "\n"
      ],
      "metadata": {
        "id": "NaTWYpnoIFtf"
      }
    },
    {
      "cell_type": "markdown",
      "source": [
        "#### Créons quelques structures de données"
      ],
      "metadata": {
        "id": "0tkCncKmRWBw"
      }
    },
    {
      "cell_type": "code",
      "source": [
        "my_list = [1,2,3,4]\n",
        "my_tuple = (1,2,3,4)\n",
        "my_dict = {\"Un\":1, \"Deux\":2, \"Trois\":3, \"Quatre\":4}\n",
        "my_str = \"1,2,3,4\""
      ],
      "metadata": {
        "id": "WkRP26-uRPEF"
      },
      "execution_count": null,
      "outputs": []
    },
    {
      "cell_type": "markdown",
      "source": [
        "#### Voyons le contenu et le type de nos structures"
      ],
      "metadata": {
        "id": "1yQcAmrZRdJT"
      }
    },
    {
      "cell_type": "code",
      "source": [
        "print(type(my_list), my_list)\n",
        "print(type(my_tuple), my_tuple)\n",
        "print(type(my_dict), my_dict)\n",
        "print(type(my_str), my_str)"
      ],
      "metadata": {
        "id": "XsNqKIMvRRsR"
      },
      "execution_count": null,
      "outputs": []
    },
    {
      "cell_type": "markdown",
      "source": [
        "#### Comment accéder à un élément en particulier d'une structure de donnée"
      ],
      "metadata": {
        "id": "T7COag6wRk3B"
      }
    },
    {
      "cell_type": "code",
      "source": [
        "print(\"Les structures de données sont indexables avec la syntaxe []:\")\n",
        "print(my_list[0],my_list[3])\n",
        "print(my_tuple[0],my_tuple[3])\n",
        "print(my_str[0],my_str[3])"
      ],
      "metadata": {
        "id": "qMwrY3qTRsbA"
      },
      "execution_count": null,
      "outputs": []
    },
    {
      "cell_type": "markdown",
      "source": [
        "#### Comment accèder à un segment (tranche) de nos structures de données"
      ],
      "metadata": {
        "id": "p9IEJniXRvX2"
      }
    },
    {
      "cell_type": "code",
      "source": [
        "print(\"Il est possible d'accéder à un segment (tranche) d'une structure de donnée avec la syntaxe [:]\")\n",
        "print(my_list[1:3])\n",
        "print(my_tuple[1:3])\n",
        "print(my_str[1:3])\n",
        "print()\n",
        "print(\"Les dictionnaires sont une exception, ils servent à stocker des informations sous format lisible par l'humain. On accède aux éléments d'un dictionnaire par leur étiquette, ou key\")\n",
        "print(\"les keys de mon dictionnaire sont\", my_dict.keys())\n",
        "print(my_dict['Un'], my_dict[\"Trois\"])"
      ],
      "metadata": {
        "id": "dA1CgsHJSA5L"
      },
      "execution_count": null,
      "outputs": []
    },
    {
      "cell_type": "markdown",
      "source": [
        "#### Comment modifier un élément d'un structure de donnée"
      ],
      "metadata": {
        "id": "SxcxO-YbSE6M"
      }
    },
    {
      "cell_type": "code",
      "source": [
        "print('Il est possible de modifier un élement dans une structure de données sans changer les autres')\n",
        "print('Ma liste originale', my_list)\n",
        "my_list[0] = 'a'\n",
        "print('Ma liste modifiée', my_list)\n",
        "print()\n",
        "print('Mon dictionnaire original', my_dict)\n",
        "my_dict[\"Un\"] = 9\n",
        "print(\"Mon dictionnaire modifié\", my_dict)\n",
        "print()\n",
        "print('Les tuples sont un exception, ils sont dit \"immutable\" et ne peuvent pas être modifiés')\n",
        "print(\"Mon tuple original\", my_tuple)\n",
        "try:\n",
        "    my_tuple[0] = 'a'\n",
        "except Exception as e: print(\"Error\", e)"
      ],
      "metadata": {
        "id": "ocoIp0XlSIlQ"
      },
      "execution_count": null,
      "outputs": []
    },
    {
      "cell_type": "markdown",
      "source": [
        "# Structures de données imbriquées\n",
        "\n",
        "#### En python les structures de données peuvent en général contenir différent types de données (par exemple une liste peut contenir des nombres flottant, des entiers et du texte). <br><br> De manière plus imporante **une structure de données peut en contenir d'autres**. Par exemple il est possible de créer **une liste de listes, ou une liste de dictionnaires**"
      ],
      "metadata": {
        "id": "dM_qoDI7OkqE"
      }
    },
    {
      "cell_type": "markdown",
      "source": [
        "#### Créons une liste imbriqué de listes contenant des éléments disparates"
      ],
      "metadata": {
        "id": "4wNbRyC5SWIy"
      }
    },
    {
      "cell_type": "code",
      "source": [
        "my_nested_list = [[1,2,3],['a', 'b', 'c'],[4, 'd',{\"Cinq\":5, \"Six\":6}]]\n",
        "print(\"Voici une liste imbriquée\", my_nested_list)\n",
        "print()\n",
        "print(\"Le premier élément de ma list imbriquée est une liste d'entier\", my_nested_list[0])\n",
        "print(\"Le deuxième élément de ma list imbriquée est une liste de strings\", my_nested_list[1])\n",
        "print(\"Le troisième élément de ma list imbriquée est une liste contenant un entier, un string et un dictionnaire\", my_nested_list[2])"
      ],
      "metadata": {
        "id": "sbILTIyJOqvU"
      },
      "execution_count": null,
      "outputs": []
    },
    {
      "cell_type": "markdown",
      "source": [
        "# Boucles et conditions\n",
        "\n",
        "#### **Les notions de boucles et de conditions sont probablement les éléments les plus important** de tout langage de programmation. Ils permettent d'**implémenter l'approche récursive ou itérative** présente dans de nombreux argument."
      ],
      "metadata": {
        "id": "noZ68tETOrYf"
      }
    },
    {
      "cell_type": "markdown",
      "source": [
        "### La boucle While\n",
        "\n",
        "####la boucle la plus simple (mais la plus dangereuse) est la boucle \"while\".<br>Pourquoi dangereuse? Car une boucle while continuera de fonctionner à l'infini tant qu'une condition pré-définie n'est pas accomplie. Cela peut bloquer votre ordinateur, par exemple en saturant le processeur ou la mémoire.<br><br>En substance une boucle while va répéter de manière séquentiel une opération ou une série d'opération tant que la condition choisie n'est pas remplie."
      ],
      "metadata": {
        "id": "rKPlFZORS1nK"
      }
    },
    {
      "cell_type": "code",
      "source": [
        "my_counter = 0 #Initions ucompteur à 0\n",
        "print(\"Notre compteur vaut initialement zero\", my_counter)\n",
        "while my_counter<100: # Initions une boucle while. Celle-ci répéteras l'opération de la ligne indentée suivantes tant que la condition initiale n'est pas remplie\n",
        "  my_counter+=1\n",
        "print(\"Après execution de notre boucle while notre compteur est maintenant de\", my_counter)\n",
        "#########################################################\n",
        "# Que se passe-t-il si nous remplaçons 100 par 100000000?\n",
        "#########################################################"
      ],
      "metadata": {
        "id": "fzL5amNuOuF7"
      },
      "execution_count": null,
      "outputs": []
    },
    {
      "cell_type": "markdown",
      "source": [
        "### La boucle for\n",
        "#### la boucle for est probablement la plus importante et la plus utilisés. Contrairement à la boucle while elle va \"boucler\" un nombre prédéfini de fois puis se terminer.<br> De ce fait il y a moins de risque de de causer un problème en utilisant une boucle for. <br>Par contre elle requiert de savoir en avance le nombre d'itération que nous allons effectuer<br><br> **Les boucles for sont extrêmement utiles car elles permettent d'itérer sur une structure de données**"
      ],
      "metadata": {
        "id": "SnahPPqAU1wh"
      }
    },
    {
      "cell_type": "code",
      "source": [
        "my_string = \"Hello world\"# Rappel un string est une structure de données, chaque lettre ou espace étant un élément de la structure\n",
        "for letter in my_string: #ceci est la syntaxe d'un boucle for. Cela revient a demander à votre ordinateur: For each element in my data structure \"my_string\", print this element\n",
        "  print(letter)"
      ],
      "metadata": {
        "id": "CUAG-g6fVXUY"
      },
      "execution_count": null,
      "outputs": []
    },
    {
      "cell_type": "markdown",
      "source": [
        "#### **Important:  le terme letter dans la boucle précédente a été choisi arbitrairement.** <br> Il s'agit simplement de créer une variable au nom arbitraire qui à chaque itération de la boucle va prendre la valeur d'un élément de ma structure de données.<br> J'aurai tout aussi bien pu appeler cette variable ananas.<br><br> Pour reprendre l'analogie ci-dessus de manière plus précise cela revient à demander à l'ordinateur \"for each element in the data structure \"my_string\", which I will refer to as \"ananas\", print the element \"ananas\""
      ],
      "metadata": {
        "id": "D3B8zKhvW_CN"
      }
    },
    {
      "cell_type": "code",
      "source": [
        "for ananas in my_string:\n",
        "  print(ananas)"
      ],
      "metadata": {
        "id": "WiE-V8D8W_PV"
      },
      "execution_count": null,
      "outputs": []
    },
    {
      "cell_type": "markdown",
      "source": [
        "#### Il est possible d'effectuer des opérations sur chaque éléments d'une liste via une boucle for"
      ],
      "metadata": {
        "id": "lvJjJajPX1nx"
      }
    },
    {
      "cell_type": "code",
      "source": [
        "my_list = [1,2,3,4]\n",
        "for item in my_list: #Pour chaque élément de la structure \"my_list\", auquel je référe comme \"item\", multiplie le par 10\n",
        "  print(item*10)"
      ],
      "metadata": {
        "id": "JzLGaaP3X-Xz"
      },
      "execution_count": null,
      "outputs": []
    },
    {
      "cell_type": "markdown",
      "source": [
        "### Utiliser une boucle for par index.\n",
        "#### Dans l'exemple précédent nous utilisions notre boucle for pour accèder directement à la valeur des différents items de notre liste.<br><br> **Il est également possible (et souvent utile) d'itérer sur l'index des éléments d'une liste.**"
      ],
      "metadata": {
        "id": "HJArRoeEcmZK"
      }
    },
    {
      "cell_type": "code",
      "source": [
        "my_list = [1,2,3,4]\n",
        "for index in range(0,len(my_list)): #Pour chaque élément (index) de l'intervalle entre 0 et la longueur de my_list (0,1,2,3), print l'élément correspondant de ma liste\n",
        "  print(my_list[index])"
      ],
      "metadata": {
        "id": "rpD9n3l5dEnf"
      },
      "execution_count": null,
      "outputs": []
    },
    {
      "cell_type": "markdown",
      "source": [
        "#### Cette manière de fonctionner permet par exemple d'accéder simultanément à un élément de notre liste et à sa position"
      ],
      "metadata": {
        "id": "EUk8KMSAdsXK"
      }
    },
    {
      "cell_type": "code",
      "source": [
        "for index in range(0,len(my_list)): #Pour chaque élément (index) de l'intervalle entre 0 et la longueur de my_list (0,1,2,3), print l'élément correspondant de ma liste\n",
        "  print(\"L'élément en position \"+str(index)+ \" de ma liste vaut \"+str(my_list[index]))"
      ],
      "metadata": {
        "id": "3NdnEgBndzye"
      },
      "execution_count": null,
      "outputs": []
    },
    {
      "cell_type": "markdown",
      "source": [
        "#### Cela nous permet également d'itérer au travers de deux listes ou plus en même temps (si elles ont des tailles comparables)"
      ],
      "metadata": {
        "id": "fub1TKjmeCjO"
      }
    },
    {
      "cell_type": "code",
      "source": [
        "my_list = [1,2,3,4]\n",
        "my_tuple = (5,6,7,8)\n",
        "my_string = 'Hello World'\n",
        "\n",
        "for index in range(0, len(my_list)): #Pour chaque élément (index) de l'intervalle entre 0 et la longueur de my_list (0,1,2,3)...\n",
        "  print(\"L'élément \"+str(index)+\" de ma liste est \"+str(my_list[index]))\n",
        "  print(\"L'élément \"+str(index)+\" de mon tuple est \"+str(my_tuple[index]))\n",
        "  print(\"L'élément \"+str(index)+\" de mon string est \"+str(my_string[index]))\n",
        "  print()"
      ],
      "metadata": {
        "id": "t7884I2TeM2p"
      },
      "execution_count": null,
      "outputs": []
    },
    {
      "cell_type": "markdown",
      "source": [
        "#### Plus important cela nous permet de changer la valeur de certain élément de notre liste au besoin, par exemple en comparant deux listes"
      ],
      "metadata": {
        "id": "1L8wHOTZe5g4"
      }
    },
    {
      "cell_type": "code",
      "source": [
        "my_correct_list = [1,2,3,4]\n",
        "print(\"Cette liste parait normales\", my_correct_list)\n",
        "my_suspicious_list = [1,57,3,4]\n",
        "print(\"Cette liste parait suspecte\", my_suspicious_list)\n",
        "\n",
        "for index in range(len(my_correct_list)): #Pour chaque élément (index) de l'intervalle entre 0 et la longueur de my_list (0,1,2,3)...\n",
        "  if my_suspicious_list[index]!=my_correct_list[index]: # si l'élément a la position \"index\" de ma liste suspecte est de l'élément en position \"index\" de ma list correcte...\n",
        "    my_suspicious_list[index] = my_correct_list[index] # remplace l'élément en position index de ma liste suspecte par celui en position index de ma liste correcte\n",
        "print(\"Ma liste suspecte est maintenant corrigée\", my_suspicious_list)\n"
      ],
      "metadata": {
        "id": "gZzEUjDFe3Nc"
      },
      "execution_count": null,
      "outputs": []
    },
    {
      "cell_type": "markdown",
      "source": [
        "### La notion de condition logique (if/if not/else)\n",
        "#### Il est possible d'effectuer la plupart les opérations logiques en Python (condition, conjonction (et), disjonction(ou)... <br>Le principal opérateur est l'opérateur if\".<br> Cela peut-être fait directement ou de manière itérative comme nous l'avons vu dans la cellule précédente. <br><br> **Il est possible d'effectuer une opération si une condition est remplie et une autre opération si elle ne l'est pas.**<br>La forme est if... else... Dans ce cas de figure le else se référe toujours au if précédent."
      ],
      "metadata": {
        "id": "lLsSRlOpgNNU"
      }
    },
    {
      "cell_type": "code",
      "source": [
        "my_string = 'hello world!'\n",
        "if my_string[-1]=='!': #Si le dernier caractère de mon string est \"!\" alors...\n",
        "  print(\"Ma phrase se termine par un point d'exclamation\") #...print ce message\n",
        "else:# dans le cas contraire...\n",
        "  print(\"Ma phrase se termine par un autre caractère\")# print un autre message\n",
        "#Que se passe-t-il si vous enlevez le point d'exclamation à la fin de \"hello world\""
      ],
      "metadata": {
        "id": "WTJSJVe4hDl5"
      },
      "execution_count": null,
      "outputs": []
    },
    {
      "cell_type": "markdown",
      "source": [
        "#### Application: Trouver si un nombre est présent en duplicat dans deux listes différentes en même temps:"
      ],
      "metadata": {
        "id": "qUB7r4fxjolU"
      }
    },
    {
      "cell_type": "code",
      "source": [
        "list1 = [1,2,3,4]\n",
        "list2 = [4,5,7,7]\n",
        "nombre_a_verifier = 4\n",
        "if nombre_a_verifier in list1 and nombre_a_verifier in list2: # si notre nombre à vérifier et présent dans la list1 ET dans la list 2...\n",
        "  print(str(nombre_a_verifier)+\" est présent dans les deux listes\")#...print cette phrase\n",
        "else:#Dans le cas contraire...\n",
        "  print(str(nombre_a_verifier)+\" n'est pas présent dans les deux listes\")#print cette autre phrase"
      ],
      "metadata": {
        "id": "1KoDUlbnjvfc"
      },
      "execution_count": null,
      "outputs": []
    },
    {
      "cell_type": "markdown",
      "source": [
        "#### Application: Trouver si un nombre est présent duplicat dans deux listes différentes en même temps et dans le cas contraire trouver si il est présent dans au moins une des listes<br><br> \"elif\" permet d'ajouter une autre condition if si la première ne s'est pas avérée exacte"
      ],
      "metadata": {
        "id": "Vuebtmx5klvR"
      }
    },
    {
      "cell_type": "code",
      "source": [
        "list1 = [1,2,3,4]\n",
        "list2 = [4,5,7,7]\n",
        "nombre_a_verifier = 1\n",
        "if nombre_a_verifier in list1 and nombre_a_verifier in list2: # si notre nombre à vérifier et présent dans la list1 ET dans la list 2...\n",
        "  print(str(nombre_a_verifier)+\" est présent dans les deux listes\")#...print cette phrase\n",
        "elif nombre_a_verifier in list1 or nombre_a_verifier in list2: # sdans le cas contraire, vérifions si notre nombre à vérifier et présent dans la list1 OU dans la list 2...\n",
        "  print(str(nombre_a_verifier)+\" est présent dans une seules des deux listes\")#print cette autre phrase"
      ],
      "metadata": {
        "id": "VHu4Zoyhk9ju"
      },
      "execution_count": null,
      "outputs": []
    },
    {
      "cell_type": "markdown",
      "source": [
        "# Travelling Salesperson Problem, Solution exacte\n",
        "#### L'objectif de ce segment est d'utiliser les outils précédents pour implémenter l'algorithme permettant de résoudre de manière exacte le TSP (cf. Cours).<br>\n",
        "#### **Pour les personnes ayant déjà de l'expérience en python** vous êtes invité à essayer d'implémenter la solution exacte sans utiliser les indices (sans utiliser de librairies externes comme Nunmpy ou Scipy).<br>\n",
        "#### **Pour les personnes débutant en Python** vous êtes invitées à reprendre le cours et à utiliser les indices pour progresser\n",
        "\n",
        "## **Rappel:**\n",
        "\n",
        "### L'objectif du TSP est de trouver l'itinéraire le plus cours pour passer par toutes les villes se revenir à votre point de départ.\n",
        "#### Pour ne froisser personne nous allons prendre des villes imaginaires et leur attribuer des coordonnées arbitraires (correspondand à une latitute et une longitude)."
      ],
      "metadata": {
        "id": "vAU33JoXqXG0"
      }
    },
    {
      "cell_type": "markdown",
      "source": [
        "# Etape 1: Données du problèmes et visualisation\n",
        "\n",
        "## Données du problème"
      ],
      "metadata": {
        "id": "IFaamBlVyDFk"
      }
    },
    {
      "cell_type": "code",
      "source": [
        "import matplotlib.pyplot as plt # Nous importons un outil pour visualiser la position de nos villes dans l'espace\n",
        "import math\n",
        "\n",
        "#########################################################################\n",
        "# Les coordonnées spatiales de nos villes, sous forme de dictionnaire\n",
        "# Chaque key correspond au nom de la ville et chaque valeur à sa position\n",
        "#########################################################################\n",
        "coord_villes = {\"Hobbiton\":[0,0], 'Poudlard':[4,6], \"Coruscant\":[12,7], \"Capitole\":[5,10], 'kingslanding':[1,9]}"
      ],
      "metadata": {
        "id": "-WkXzPXAIBjK"
      },
      "execution_count": null,
      "outputs": []
    },
    {
      "cell_type": "markdown",
      "source": [
        "## Visualisation : Exercice\n",
        "\n",
        "#### Essayer de créer une représentation visuelle ou carte de nos différences villes"
      ],
      "metadata": {
        "id": "wtNQfqWEILCh"
      }
    },
    {
      "cell_type": "code",
      "source": [],
      "metadata": {
        "id": "mDJ4yTzRIPcG"
      },
      "execution_count": null,
      "outputs": []
    },
    {
      "cell_type": "markdown",
      "source": [
        "## Visualisation : Solution"
      ],
      "metadata": {
        "id": "MD6xu46cIenZ"
      }
    },
    {
      "cell_type": "code",
      "source": [
        "############################################################\n",
        "# Pour faciliter l'exercice nous allons visualiser nos villes\n",
        "#############################################################\n",
        "plt.figure()# Cette ligne crée une figure graphique\n",
        "for ville in coord_villes.keys(): #Nous créons une boucle \"for\" avec une itération pour chaque key (nom de ville) de notre dictionnaire coord_villes\n",
        "  plt.scatter(coord_villes[ville][0], coord_villes[ville][1])# Pour chaque ville nous plaçons un point sur notre figure en fonction des coordonnées de la ville\n",
        "  plt.annotate(ville, (coord_villes[ville][0], coord_villes[ville][1]))# Nous annotons aussi notre point pour savoir de quelle ville il s'agit\n",
        "plt.xlabel(\"Latitude\") #Légende de l'axe des x\n",
        "plt.ylabel(\"Longitude\") #Légende de l'axe des y\n",
        "plt.title(\"Carte abstraite d'un endroit très étrange\")\n",
        "plt.show() #maintenant que notre figure contient tous ses élément nous l'affichons"
      ],
      "metadata": {
        "id": "b_-KVdujqV1_"
      },
      "execution_count": null,
      "outputs": []
    },
    {
      "cell_type": "markdown",
      "source": [
        "# Etape 2: Comment calculer la distance entre 2 villes\n",
        "\n",
        "#### **Cette étapes peut-être considérée comme optionnelles**, l'objectif est simplement de créer un outil qui va calculer la distance entre deux villes données. <br><br>  Cette outils se base sur la formule de la distance euclidienne.<br> **Si vous le souhaitez vous pouvez simplement executer ces cellules et passer à l'étape suivante**"
      ],
      "metadata": {
        "id": "lBvpETf_yH9S"
      }
    },
    {
      "cell_type": "code",
      "source": [
        "################################################################################\n",
        "# Nous créons une fonction qui calcule la distance euclidienne entre deux villes\n",
        "################################################################################\n",
        "def compute_distance(ville1, ville2):\n",
        "  return math.sqrt((ville1[0]-ville2[0])**2+(ville1[1]-ville2[1])**2)"
      ],
      "metadata": {
        "id": "Wog2ODbkwmtu"
      },
      "execution_count": null,
      "outputs": []
    },
    {
      "cell_type": "code",
      "source": [
        "############################################################################\n",
        "# Testons notre fonction en calculant la distance entre Hobbiton et Poudlard\n",
        "############################################################################\n",
        "compute_distance(coord_villes[\"Hobbiton\"], coord_villes[\"Poudlard\"])"
      ],
      "metadata": {
        "id": "8U_eZkIAz4N6"
      },
      "execution_count": null,
      "outputs": []
    },
    {
      "cell_type": "markdown",
      "source": [
        "# Etape 3, calculer toutes les permutations possibles de nos villes\n",
        "\n",
        "#### **Important:** Nous excluons Hobbiton de nos permutations car il s'agit du point de départ et d'arrivée"
      ],
      "metadata": {
        "id": "kRncZt4h1xum"
      }
    },
    {
      "cell_type": "markdown",
      "source": [
        "## Permutations : Exercice\n",
        "#### Construire la liste de toutes les permutations (ou itinéraire possible), considérant qu'un itinéraire doit forcément commencer et finir à Hobbiton. Stocker la liste des itinéraires possibles dans une structure de données.<br> **Bonus : Print le nombre total d'itinéraires possibles**"
      ],
      "metadata": {
        "id": "fTYv9MCEIxKP"
      }
    },
    {
      "cell_type": "code",
      "source": [
        "import itertools #indice, les permutations d'und liste peuvent être calculées avec itertools : permu = list(itertools.permutations(my_list))"
      ],
      "metadata": {
        "id": "49HqbY0rJBc2"
      },
      "execution_count": null,
      "outputs": []
    },
    {
      "cell_type": "markdown",
      "source": [
        "## Permutations : Solution"
      ],
      "metadata": {
        "id": "dhElVG0cJBwy"
      }
    },
    {
      "cell_type": "code",
      "source": [
        "import itertools #itertools est un outils inclu dans les packages Python de base permettant de manipuler des structures de données\n",
        "villes_a_permuter = [] #nous créons une liste vide pour accueillir les noms des villes que nous allons permuter\n",
        "for ville in coord_villes.keys(): #Nous créons une boucle \"for\" avec une itération pour chaque key (nom de ville) de notre dictionnaire coord_villes\n",
        "  if ville != \"Hobbiton\": #Pour chacune de nos itérations de la boucle for nous vérifions si le nom de la ville n'est pas Hobbiton\n",
        "    villes_a_permuter.append(ville) #Si le nom de la ville est différent de Hobbiton nous ajoutons le nom à notre liste de ville à permuter\n",
        "print(villes_a_permuter)#Vérifions que notre liste contient bien le nom de nos villes\n",
        "\n",
        "villes_permutées = list(itertools.permutations(villes_a_permuter))# Maintenant nous générons une liste qui contient toutes les permutations possibles de nos villes\n",
        "print(villes_permutées) #Vérifions que notre liste de ville permutées fonctionne bien"
      ],
      "metadata": {
        "id": "o_dFJVW-1JXv"
      },
      "execution_count": null,
      "outputs": []
    },
    {
      "cell_type": "markdown",
      "source": [
        "# Etape 4: Pour chaque itinéraire possible, calculer la distance parcourue\n",
        "\n",
        "#### Important: Il faut rajouter hobbiton au début et à la fin de chaque liste puisqu'il s'agit du point de départ et d'arrivée"
      ],
      "metadata": {
        "id": "v5m_aG1b39bj"
      }
    },
    {
      "cell_type": "markdown",
      "source": [
        "## Distance : Exercice\n",
        "#### Pour chacun de nos itinéraire calculer la distance à parcourir et la stocker dans une structure de données"
      ],
      "metadata": {
        "id": "H7-fGJmbJdFD"
      }
    },
    {
      "cell_type": "code",
      "source": [],
      "metadata": {
        "id": "VKmOfZhIJgbD"
      },
      "execution_count": null,
      "outputs": []
    },
    {
      "cell_type": "markdown",
      "source": [
        "## Distance : Solution"
      ],
      "metadata": {
        "id": "uEAYrlQbJgxg"
      }
    },
    {
      "cell_type": "code",
      "source": [
        "distances = [] # Nous créons une liste vide pour stocker les distances\n",
        "for itineraire in villes_permutées:#Nous créons une boucle for pour itéré sur chaque permutation unique de villes à parcourir (chaque itinéraire)\n",
        "  #print(itineraire)\n",
        "  temp_dist = 0 #Nous initialisons une valeur de distance à zéro, à laquelle nous ajouterons la distance calculée pour chaque segment de notre itinéraire\n",
        "  temp_dist+=compute_distance(coord_villes[\"Hobbiton\"], coord_villes[itineraire[0]])\n",
        "  temp_dist+=compute_distance(coord_villes[\"Hobbiton\"], coord_villes[itineraire[-1]])\n",
        "  for etape in range(0, len(itineraire)-1):# Nous créons une nouvelle boucle for pour calculer la distance pour chaque paire de ville de notre itinéraire\n",
        "    temp_dist+= compute_distance(coord_villes[itineraire[etape]], coord_villes[itineraire[etape+1]]) #pour chacune des étapes de notre itinéraire nous ajoutons la distance à parcourir jusqu'à la ville suivante\n",
        "    #print(itineraire[etape],itineraire[etape+1])\n",
        "  #print(temp_dist)\n",
        "  distances.append(temp_dist)#Pour chaque itinéraire nous stockons la distance qu'il représente\n"
      ],
      "metadata": {
        "id": "5YKBr3H-2xlF"
      },
      "execution_count": null,
      "outputs": []
    },
    {
      "cell_type": "markdown",
      "source": [
        "# Etape 6: Trouver la distance la plus courte et l'itinéraire correspondand\n",
        "\n",
        "#### Rappel 1 : la structure villes_permutées est la liste de toutes nos permutations (ou itinéraire)\n",
        "\n",
        "#### Rappel 2 : La structure distances contient les distances pour chaque itinéraires, dans le même ordre que villes_permutées"
      ],
      "metadata": {
        "id": "1PAVXdGTC6m_"
      }
    },
    {
      "cell_type": "markdown",
      "source": [
        "## Itinéraire le plus court : Exercice\n",
        "#### Depuis notre liste de toutes les distances trouver l'itinéraire le plus court et le print"
      ],
      "metadata": {
        "id": "KjTnBSECJ-un"
      }
    },
    {
      "cell_type": "code",
      "source": [],
      "metadata": {
        "id": "wD8xG6yWKTkn"
      },
      "execution_count": null,
      "outputs": []
    },
    {
      "cell_type": "markdown",
      "source": [
        "## Itinéraire le plus court : Solution"
      ],
      "metadata": {
        "id": "NlXnMBscKMZw"
      }
    },
    {
      "cell_type": "code",
      "source": [
        "print(min(distances))#cette fonction nous indique quel est la distance parcourue. Problème, elle ne nous dit pas à quel itinéraire elle correspond\n",
        "\n",
        "##################################################################################\n",
        "# Commençons par essayer de trouver l'index (la position) de cette valeur minimale\n",
        "##################################################################################\n",
        "for dist in range(0, len(distances)):#nous créons une boucle for pour itérer sur chaque valeur d'index de 'distances'\n",
        "  if distances[dist] == min(distances):# pour chaque valeur dans la liste 'distances' nous vérifions si elle est égale au minimum\n",
        "    index_min = dist# si c'est le cas nous stockons l'index du minimum de distances dans la variable index_min\n",
        "print(distances[index_min])#maintenant nous pouvons vérifier si notre index correspond bien au minimum de 'distance'"
      ],
      "metadata": {
        "id": "jTt_DHGy4t82"
      },
      "execution_count": null,
      "outputs": []
    },
    {
      "cell_type": "code",
      "source": [
        "#######################################################################################################################\n",
        "# Maintenant que nous avons l'index de la distance la plus courte, nous pouvons trouver à quel itinéraire il correspond\n",
        "#######################################################################################################################\n",
        "print(\"Le meilleur itinéraire de notre version du TSP est Hobbiton-\", villes_permutées[index_min], '-Hobbiton')"
      ],
      "metadata": {
        "id": "LtXIp_ohDhSS"
      },
      "execution_count": null,
      "outputs": []
    },
    {
      "cell_type": "markdown",
      "source": [
        "# Etape 7 : Visualisation du résultat"
      ],
      "metadata": {
        "id": "rG7RLMfHKZVJ"
      }
    },
    {
      "cell_type": "markdown",
      "source": [
        "## Visualisation du résultat : Exercice\n",
        "#### Objectif : créer une représentation graphique de notre itinéraire optimal"
      ],
      "metadata": {
        "id": "LJ-_9TO8Kmsl"
      }
    },
    {
      "cell_type": "code",
      "source": [],
      "metadata": {
        "id": "o2TBTw_wKutU"
      },
      "execution_count": null,
      "outputs": []
    },
    {
      "cell_type": "markdown",
      "source": [
        "## Visualisation du résultat : Solution"
      ],
      "metadata": {
        "id": "B03SKV4QKvOu"
      }
    },
    {
      "cell_type": "code",
      "source": [
        "##################################################\n",
        "# Nous pouvons également visualiser cet itinéraire\n",
        "###################################################\n",
        "meilleur_itineraire = villes_permutées[index_min]\n",
        "plt.figure()# Cette ligne crée une figure graphique\n",
        "for ville in coord_villes.keys(): #Nous créons une boucle \"for\" avec une itération pour chaque key (nom de ville) de notre dictionnaire coord_villes\n",
        "  plt.scatter(coord_villes[ville][0], coord_villes[ville][1])# Pour chaque ville nous plaçons un point sur notre figure en fonction des coordonnées de la ville\n",
        "  plt.annotate(ville, (coord_villes[ville][0], coord_villes[ville][1]))# Nous annotons aussi notre point pour savoir de quelle ville il s'agit\n",
        "\n",
        "#Trajet entre le point de départ et la première étape\n",
        "plt.plot([coord_villes[\"Hobbiton\"][0], coord_villes[meilleur_itineraire[0]][0]],[coord_villes[\"Hobbiton\"][1], coord_villes[meilleur_itineraire[0]][1]], color = 'b', linestyle = '--')\n",
        "#Trajet entre la dernière étape et le point d'arrivée\n",
        "plt.plot([coord_villes[\"Hobbiton\"][0], coord_villes[meilleur_itineraire[-1]][0]],[coord_villes[\"Hobbiton\"][1], coord_villes[meilleur_itineraire[-1]][1]], color = 'b', linestyle = '--')\n",
        "\n",
        "for etape in range(0, len(meilleur_itineraire)-1):#Nous itérons au travers de chacune des étapes de notre meilleur itinéraire\n",
        "  # Pour chaque étape nous traçons un trait entre cette étape et la suivante\n",
        "  plt.plot([coord_villes[meilleur_itineraire[etape]][0], coord_villes[meilleur_itineraire[etape+1]][0]],[coord_villes[meilleur_itineraire[etape]][1], coord_villes[meilleur_itineraire[etape+1]][1]], color = 'b', linestyle = '--')\n",
        "\n",
        "plt.xlabel(\"Latitude\") #Légende de l'axe des x\n",
        "plt.ylabel(\"Longitude\") #Légende de l'axe des y\n",
        "plt.title(\"Itinéraire le plus court dans notre endroit très étrange\")\n",
        "plt.show() #maintenant que notre figure contient tous ses élément nous l'affichons"
      ],
      "metadata": {
        "id": "Bj4RkfevFhJp"
      },
      "execution_count": null,
      "outputs": []
    },
    {
      "cell_type": "markdown",
      "source": [
        "# Etape 8: Question Bonus\n",
        "\n",
        "#### Que se passe-t-il en terme de temps d'exécution si vous ajoutez des villes à la liste?<br> Pensez-vous que notre algorithme exact soit viable pour un très grand nombre de villes?"
      ],
      "metadata": {
        "id": "irFG0_PULB03"
      }
    },
    {
      "cell_type": "code",
      "source": [],
      "metadata": {
        "id": "3VycddU3GlVb"
      },
      "execution_count": null,
      "outputs": []
    }
  ]
}