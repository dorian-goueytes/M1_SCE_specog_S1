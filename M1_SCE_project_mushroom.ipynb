{
  "cells": [
    {
      "cell_type": "markdown",
      "metadata": {
        "id": "view-in-github",
        "colab_type": "text"
      },
      "source": [
        "<a href=\"https://colab.research.google.com/github/dorian-goueytes/M1_SCE_specog_S1/blob/main/M1_SCE_project_mushroom.ipynb\" target=\"_parent\"><img src=\"https://colab.research.google.com/assets/colab-badge.svg\" alt=\"Open In Colab\"/></a>"
      ]
    },
    {
      "cell_type": "markdown",
      "metadata": {
        "id": "7WwhTMdePSth"
      },
      "source": [
        "# Mushroom Classifier"
      ]
    },
    {
      "cell_type": "markdown",
      "metadata": {
        "id": "-xjOZSkzPSto"
      },
      "source": [
        "### Objectif :\n",
        "\n",
        "#### Nous allons analyser un jeu de donnée, et l'utiliser pour prédire si des champignons sont comestibles ou non en fonction de différentes caractéristiques"
      ]
    },
    {
      "cell_type": "markdown",
      "metadata": {
        "id": "3i7ytfjpPStp"
      },
      "source": [
        "#### Dataset Source\n",
        "\n",
        "UCI Machine Learning Repository\n",
        "\n",
        "    - Donor: UCI, Jeff Schlimmer (Jeffrey.Schlimmer '@' a.gp.cs.cmu.edu)\n",
        "    - Source Link: https://archive.ics.uci.edu/ml/datasets/mushroom\n",
        "    - Download: https://archive.ics.uci.edu/ml/machine-learning-databases/mushroom/\n",
        "    - Data last updated: ---\n",
        "    - Origin: Mushroom records drawn from The Audubon Society Field Guide to North American Mushrooms (1981). G. H. Lincoff (Pres.), New York: Alfred A. Knopf\n",
        "    - Citation: Dua, D. and Graff, C. (2019). UCI Machine Learning Repository [http://archive.ics.uci.edu/ml]. Irvine, CA: University of California, School of Information and Computer Science."
      ]
    },
    {
      "cell_type": "markdown",
      "metadata": {
        "id": "dsjIXyvNPStr"
      },
      "source": [
        "### Import libraries"
      ]
    },
    {
      "cell_type": "code",
      "execution_count": null,
      "metadata": {
        "id": "21_LOltTPSts"
      },
      "outputs": [],
      "source": [
        "!pip install -U scikit-learn\n",
        "import pandas as pd\n",
        "import numpy as np\n",
        "import matplotlib.pyplot as plt"
      ]
    },
    {
      "cell_type": "markdown",
      "metadata": {
        "id": "mj5xd5JtPStv"
      },
      "source": [
        "### Load Data"
      ]
    },
    {
      "cell_type": "code",
      "execution_count": null,
      "metadata": {
        "id": "1qAKnANlPStv"
      },
      "outputs": [],
      "source": [
        "# Read mushroom data for features\n",
        "dfmain = pd.read_csv('agaricus-lepiota.csv', header='infer') #Chargeons les données du fichier agaricus-lepiota dans la variable dfmain. Nous utilisons pour cela la bibliothèque python\n",
        "                                                            # pandas, qui stocke les données sous forme de variables nommées dataframes ayant de nombreuses fonctions utiles"
      ]
    },
    {
      "cell_type": "markdown",
      "metadata": {
        "id": "X-NK8hUwPStw"
      },
      "source": [
        "### Comprendre les données"
      ]
    },
    {
      "cell_type": "markdown",
      "metadata": {
        "id": "-x0bvjKnPStx"
      },
      "source": [
        "#### Exercice : En premier lieu, essayez d'imprimer le contenu du dataframe que nous avons chargé dans la variable dfmain"
      ]
    },
    {
      "cell_type": "code",
      "execution_count": null,
      "metadata": {
        "id": "4OuvcfN3PSty"
      },
      "outputs": [],
      "source": []
    },
    {
      "cell_type": "markdown",
      "metadata": {
        "jp-MarkdownHeadingCollapsed": true,
        "id": "ml2xAmIZPSty"
      },
      "source": [
        "#### Solution"
      ]
    },
    {
      "cell_type": "code",
      "execution_count": null,
      "metadata": {
        "id": "X_TYjNyjPStz"
      },
      "outputs": [],
      "source": [
        "print(dfmain)"
      ]
    },
    {
      "cell_type": "markdown",
      "metadata": {
        "id": "uOOgn-ckPStz"
      },
      "source": [
        "### Signification des données"
      ]
    },
    {
      "cell_type": "markdown",
      "metadata": {
        "id": "4S-WFRfdPSt0"
      },
      "source": [
        "#### Ces données correspondent à un dataset répertoriant 8124 champignons. Pour chaque champignon il est indiqué:\n",
        "\n",
        "- Class: Le champignon est-il comestible (e pour edible) ou toxique (p pour poisonous)\n",
        "- cap-shape :  quelle est la forme de son chapeau (bell=b,conical=c,convex=x,flat=f,knobbed=k,sunken=s)\n",
        "- Odor : L'odeur du champignon (almond=a,anise=l,creosote=c,fishy=y,foul=f,musty=m,none=n,pungent=p,spicy=s)\n",
        "- Habitat : Dans quel environnement le champignon pousse (grasses=g,leaves=l,meadows=m,paths=p,urban=u,waste=w,woods=d)\n",
        "\n",
        "#### Notre objectif est de prédire en fonction des caractéristiques (features) d'un champignon (cap-shape, odor, habitat) sa classe (label), comestible ou toxique\n",
        "\n"
      ]
    },
    {
      "cell_type": "markdown",
      "metadata": {
        "id": "Vnju_BuOPSt0"
      },
      "source": [
        "#### Exercice : Vérifiez quelle est la proportion de champignons toxiques et de champignons comestibles dans notre dataset"
      ]
    },
    {
      "cell_type": "code",
      "execution_count": null,
      "metadata": {
        "id": "tFathlRsPSt0"
      },
      "outputs": [],
      "source": []
    },
    {
      "cell_type": "markdown",
      "metadata": {
        "jp-MarkdownHeadingCollapsed": true,
        "id": "R5sdgUSiPSt0"
      },
      "source": [
        "#### Solution :"
      ]
    },
    {
      "cell_type": "code",
      "execution_count": null,
      "metadata": {
        "id": "zFVi0vipPSt1"
      },
      "outputs": [],
      "source": [
        "dfmain.groupby(['class'])['class'].count() #la fonction groupby est une des fonctions des dataframes pandas. Elle permet de grouper les données du dataframe selon chaque\n",
        "                                            #valeur unique d'une colonne"
      ]
    },
    {
      "cell_type": "markdown",
      "metadata": {
        "id": "QriUFmauPSt1"
      },
      "source": [
        "### Preprocessing\n",
        "\n",
        "Pour l'instant nos données sont représentées sous la forme de lettres. Problème, pour visualiser nos données et entrainer un modèle nous avons besoin de valeurs numériques"
      ]
    },
    {
      "cell_type": "markdown",
      "metadata": {
        "id": "wLET-LonPSt1"
      },
      "source": [
        "#### Exercice : Pour chaque feature (cap_shape, odor, habitat), créer une nouvelle colonnes remplaçant les lettres par des valeurs numériques\n",
        "Indice : Il est très important que les valeurs numériques correspondent aux lettres de manière systématique (par exemple si nous remplaçons x par 0 dans la colonne cap-shape tous les x et seulement les x doivent être remplacés par des 0)"
      ]
    },
    {
      "cell_type": "code",
      "execution_count": null,
      "metadata": {
        "id": "z6x0f0pgPSt1"
      },
      "outputs": [],
      "source": []
    },
    {
      "cell_type": "markdown",
      "metadata": {
        "jp-MarkdownHeadingCollapsed": true,
        "id": "lei-oXVDPSt2"
      },
      "source": [
        "#### Solution"
      ]
    },
    {
      "cell_type": "code",
      "execution_count": null,
      "metadata": {
        "id": "7CQUzC93PSt2"
      },
      "outputs": [],
      "source": [
        "dfmain['cap_shape_num'] = dfmain['cap_shape'] #nous créons une nouvelle colonne dans notre dataframe qui est une copie de la colonne correspondante\n",
        "dfmain['odor_num'] = dfmain['odor'] #nous créons une nouvelle colonne dans notre dataframe qui est une copie de la colonne correspondante\n",
        "dfmain['habitat_num'] = dfmain['habitat'] #nous créons une nouvelle colonne dans notre dataframe qui est une copie de la colonne correspondante\n",
        "\n",
        "for shape in range(0, len(np.unique(dfmain['cap_shape']))): #pour chacune des valeurs uniques dans cette colonnes\n",
        "    dfmain.loc[dfmain['cap_shape_num'] == np.unique(dfmain['cap_shape'])[shape], 'cap_shape_num'] = shape #nous remplaçons la valeur correspondantes dans sa copie par l'index de la valeur\n",
        "for habitat in range(0, len(np.unique(dfmain['habitat']))):\n",
        "    dfmain.loc[dfmain['habitat_num'] == np.unique(dfmain['habitat'])[habitat], 'habitat_num'] = habitat\n",
        "for odor in range(0, len(np.unique(dfmain['odor']))):\n",
        "    dfmain.loc[dfmain['odor_num'] == np.unique(dfmain['odor'])[odor], 'odor_num'] = odor\n",
        "print(dfmain)"
      ]
    },
    {
      "cell_type": "markdown",
      "metadata": {
        "id": "6QAi3X5lPSt2"
      },
      "source": [
        "### Visualisation\n",
        "\n",
        "#### Maintenant que nos données ont été converties au format numérique nous allons les visualiser"
      ]
    },
    {
      "cell_type": "markdown",
      "metadata": {
        "id": "Cc25z_TLPSt3"
      },
      "source": [
        "#### Exercice : Créez un scatter plot représentant chaque champignon en fonction de la forme de son chapeau et de son habitat. Utilisez un code couleur pour indiquer si chaque champignon est comestible ou toxique\n",
        "Indice 1 : Séparez le dataframe en deux, un contenant tous les champignons comestible et l'autre contenant tous les champignons toxiques\n",
        "Indice 2 : Utilisez la fonction de matplotlib scatter"
      ]
    },
    {
      "cell_type": "code",
      "execution_count": null,
      "metadata": {
        "id": "7GNLRBh9PSt3"
      },
      "outputs": [],
      "source": []
    },
    {
      "cell_type": "markdown",
      "metadata": {
        "jp-MarkdownHeadingCollapsed": true,
        "id": "40DUh-KuPSt4"
      },
      "source": [
        "#### Solution"
      ]
    },
    {
      "cell_type": "code",
      "execution_count": null,
      "metadata": {
        "id": "qSuiInNQPSt4"
      },
      "outputs": [],
      "source": [
        "data_poisonous = dfmain[dfmain['class'] == \"p\"] #crée un nouveau dataframe contenant uniquement les données des champignons toxiques\n",
        "data_edible = dfmain[dfmain['class'] == \"e\"] #crée un nouveau dataframe contenant uniquement les données des champignons comestibles\n",
        "\n",
        "fig, ax = plt.subplots(1,1)#Crée une figure 'fig' pour représenter nos données, dont les axes se nomment 'ax'\n",
        "\n",
        "ax.scatter(data_edible['cap_shape_num'], data_edible['habitat_num'], color = 'g', label = 'Comestible') #pour chaque champignon comestible crée un point vert dont la position est fonction en abscisse\n",
        "                                                                                                        # de la forme du chapeau et en ordonnée de l'habitat\n",
        "ax.scatter(data_poisonous['cap_shape_num'], data_poisonous['habitat_num'], color = 'r', label = 'Toxique')# Même chose pour les champignons toxiques en rouge\n",
        "ax.set_xlabel('Forme du chapeau') #nomme l'axe des x (abscisses)\n",
        "ax.set_ylabel('Habitat') #nomme l'axe des y (ordonnéres)\n",
        "ax.set_xticks(range(0, len(np.unique(dfmain['cap_shape']))), np.unique(dfmain['cap_shape'])) #Légende l'axe des x avec les lettres correspondant aux formes de chapeaux plutôt qu'avec les valeurs\n",
        "                                                                                            #numériques\n",
        "ax.set_yticks(range(0, len(np.unique(dfmain['habitat']))), np.unique(dfmain['habitat'])) #Légende l'axe des y avec les lettres correspondant aux habitats plutôt qu'avec les valeurs\n",
        "                                                                                            #numériques\n",
        "plt.legend() #affiche sur la figure la légende indiquant la signification de la couleur des points\n",
        "plt.title(\"Comestibilité d'un champignon en fonction de l'habitat et de la forme du chapeau\")# Nomme la figure\n",
        "plt.tight_layout() #Fonction de matplotlib pour s'assurer que les différents éléments de la figure sont bien affichés\n",
        "plt.show() #Affiche la figure"
      ]
    },
    {
      "cell_type": "markdown",
      "metadata": {
        "id": "BIzm16ZiPSt5"
      },
      "source": [
        "##### Problème :\n",
        "Comme de nombreux champignon partagent la même forme de chapeau et le même habitat, les points sur le scatter plot se superposent. Solution, ajouter du 'jitter', c'est a dire bouger légérement chaque point dans une direction aléatoire pour faciliter la visualisation"
      ]
    },
    {
      "cell_type": "code",
      "execution_count": null,
      "metadata": {
        "id": "Ya7ag-upPSt5"
      },
      "outputs": [],
      "source": [
        "def rand_jitter(arr): # Crée une fonction qui va légérement alterer la valeur de nos points de manière aléatoire\n",
        "    stdev = .02 * (max(arr) - min(arr))\n",
        "    return arr + np.random.randn(len(arr)) * stdev\n",
        "\n",
        "fig, ax = plt.subplots(1,1, figsize = (10,7)) #Crée une figure 'fig' pour représenter nos données, dont les axes se nomment 'ax' et dont la taille est déterminée par figsize\n",
        "\n",
        "###############################################################\n",
        "# Plotte nos données avec le jitter pour améliorer la lisibilité\n",
        "ax.scatter(rand_jitter(data_poisonous['cap_shape_num']), rand_jitter(data_poisonous['habitat_num']), color = 'r', label = 'Toxique', alpha = 0.1) #le paramètre alpha (compris entre 0 et 1) détermine\n",
        "                                                                                                                                                # la transparence des points\n",
        "ax.scatter(rand_jitter(data_edible['cap_shape_num']), rand_jitter(data_edible['habitat_num']), color = 'g', label = 'Comestible', alpha = 0.1)\n",
        "ax.set_xlabel('Forme du chapeau')\n",
        "ax.set_ylabel('Habitat')\n",
        "ax.set_xticks(range(0, len(np.unique(dfmain['cap_shape']))), np.unique(dfmain['cap_shape']))\n",
        "ax.set_yticks(range(0, len(np.unique(dfmain['habitat']))), np.unique(dfmain['habitat']))\n",
        "plt.legend()\n",
        "plt.title(\"Comestibilité d'un champignon en fonction de l'habitat et de la forme du chapeau\")\n",
        "plt.tight_layout()\n",
        "plt.show()"
      ]
    },
    {
      "cell_type": "markdown",
      "metadata": {
        "id": "szxgEp2VPSt5"
      },
      "source": [
        "#### Exercice : Créez un scatter plot représentant chaque champignon en fonction cette fois-ci de son odeur et de son habitat. Utilisez un code couleur pour indiquer si chaque champignon est comestible ou toxique\n",
        "Indice 1 : Basez vous sur la solution de l'exercice précédent"
      ]
    },
    {
      "cell_type": "code",
      "execution_count": null,
      "metadata": {
        "id": "M-phmAOnPSt6"
      },
      "outputs": [],
      "source": []
    },
    {
      "cell_type": "markdown",
      "metadata": {
        "jp-MarkdownHeadingCollapsed": true,
        "id": "YtkwUoq6PSt6"
      },
      "source": [
        "#### Solution"
      ]
    },
    {
      "cell_type": "code",
      "execution_count": null,
      "metadata": {
        "id": "B8-SHy7KPSt6"
      },
      "outputs": [],
      "source": [
        "data_poisonous = dfmain[dfmain['class'] == \"p\"] #crée un nouveau dataframe contenant uniquement les données des champignons toxiques\n",
        "data_edible = dfmain[dfmain['class'] == \"e\"] #crée un nouveau dataframe contenant uniquement les données des champignons comestibles\n",
        "\n",
        "fig, (ax1, ax2) = plt.subplots(1,2, figsize = (14,7)) #Crée une figure 'fig' contenant deux sous-figures (ax1 et ax2)\n",
        "\n",
        "ax1.scatter(data_edible['odor_num'], data_edible['habitat_num'], color = 'g', label = 'Comestible')#pour chaque champignon comestible crée un point vert dont la position est fonction en abscisse\n",
        "                                                                                                        # de l'odeur et en ordonnée de l'habitat\n",
        "ax1.scatter(data_poisonous['odor_num'], data_poisonous['habitat_num'], color = 'r', label = 'Toxique')# Même chose pour les champignons toxiques en rouge\n",
        "ax1.set_xlabel('Odeur')#nomme l'axe des x (abscisses)\n",
        "ax1.set_ylabel('Habitat')#nomme l'axe des y (abscisses)\n",
        "ax1.set_xticks(range(0, len(np.unique(dfmain['odor']))), np.unique(dfmain['odor']))#Légende l'axe des x avec les lettres correspondant aux formes de chapeaux plutôt qu'avec les valeurs\n",
        "                                                                                            #numériques\n",
        "ax1.set_yticks(range(0, len(np.unique(dfmain['habitat']))), np.unique(dfmain['habitat']))#Légende l'axe des y avec les lettres correspondant aux habitats plutôt qu'avec les valeurs\n",
        "                                                                                            #numériques\n",
        "ax1.set_title(\"Version sans jitter\") #Nomme la première sous-figure\n",
        "\n",
        "ax2.scatter(rand_jitter(data_poisonous['odor_num']), rand_jitter(data_poisonous['habitat_num']), color = 'r', label = 'Toxique', alpha = 0.1)\n",
        "ax2.scatter(rand_jitter(data_edible['odor_num']), rand_jitter(data_edible['habitat_num']), color = 'g', label = 'Comestible', alpha = 0.1)\n",
        "ax2.set_xlabel('Odeur')\n",
        "ax2.set_ylabel('Habitat')\n",
        "ax2.set_xticks(range(0, len(np.unique(dfmain['odor']))), np.unique(dfmain['odor']))\n",
        "ax2.set_yticks(range(0, len(np.unique(dfmain['habitat']))), np.unique(dfmain['habitat']))\n",
        "ax2.set_title(\"Version avec jitter\")#Nomme la deuxime sous-figure\n",
        "\n",
        "plt.legend()\n",
        "plt.suptitle(\"Comestibilité d'un champignon en fonction de l'habitat et de la forme du chapeau\")\n",
        "plt.tight_layout()\n",
        "plt.show()"
      ]
    },
    {
      "cell_type": "markdown",
      "metadata": {
        "id": "iOZk1cf5PSt7"
      },
      "source": [
        "#### Exercice : Pour l'instant notre méthode basées sur des scatter plot ne nous permet de visualiser la comestibilité de nos champignons qu'en fonction de deux features à la fois. Problème, nous avons 3 features.\n",
        "\n",
        "#### Pour régler ce problème, créez une visualisation combinée de nos trois variables (indice utilisez un scatter plot en 3D)"
      ]
    },
    {
      "cell_type": "code",
      "execution_count": null,
      "metadata": {
        "id": "WtOQX9FfPSt7"
      },
      "outputs": [],
      "source": [
        "fig, ax = plt.subplots(1,1,figsize = (10,7))# Comme précédemment cette ligne crée une figure vierge\n",
        "ax = fig.add_subplot(projection='3d') # indique que notre figure correspond à une représentation en 3D, et par conséquent à 3 axes au lieu de 2\n"
      ]
    },
    {
      "cell_type": "markdown",
      "metadata": {
        "jp-MarkdownHeadingCollapsed": true,
        "id": "gIIhpoBjPSt7"
      },
      "source": [
        "#### Solution :"
      ]
    },
    {
      "cell_type": "code",
      "execution_count": null,
      "metadata": {
        "id": "wTkYkf0cPSt8"
      },
      "outputs": [],
      "source": [
        "fig, ax = plt.subplots(1,1,figsize = (10,7))# Comme précédemment cette ligne crée une figure vierge\n",
        "ax = fig.add_subplot(projection='3d') # indique que notre figure correspond à une représentation en 3D, et par conséquent à 3 axes au lieu de 2\n",
        "\n",
        "###################################################################################################################################################\n",
        "# Plotte nos données avec le jitter pour améliorer la lisibilité. Cette fois-ci 3 variable (chapeau, odeur, habitat) sont précisées au lieu de deux.\n",
        "ax.scatter(rand_jitter(data_poisonous['cap_shape_num']), rand_jitter(data_poisonous['odor_num']), rand_jitter(data_poisonous['habitat_num']), color = 'r', label = 'Toxique')\n",
        "ax.scatter(rand_jitter(data_edible['cap_shape_num']), rand_jitter(data_edible['odor_num']), rand_jitter(data_edible['habitat_num']), color = 'g', label = 'Comestible')\n",
        "ax.set_xlabel('Forme du chapeau')\n",
        "ax.set_ylabel('Odeur')\n",
        "ax.set_zlabel('Habitat')\n",
        "ax.set_xticks(range(0, len(np.unique(dfmain['cap_shape']))), np.unique(dfmain['cap_shape']))\n",
        "ax.set_yticks(range(0, len(np.unique(dfmain['odor']))), np.unique(dfmain['odor']))\n",
        "ax.set_zticks(range(0, len(np.unique(dfmain['habitat']))), np.unique(dfmain['habitat']))\n",
        "\n",
        "plt.legend()\n",
        "plt.suptitle(\"Comestibilité d'un champignon en fonction de l'habitat et de la forme du chapeau\")\n",
        "#plt.tight_layout()\n",
        "plt.show()"
      ]
    },
    {
      "cell_type": "markdown",
      "metadata": {
        "id": "zxUOpo-RPSt8"
      },
      "source": [
        "### Création d'un décodeur pour prédire la catégorie des champignons\n",
        "Nous allons maintenant entamer la partie machine learning à proprement parler. Comme vous n'avez pas encore eu de cours de machine learning votre objectif ici n'est pas de créer du code, mais de comprendre la fonction des différentes étapes et leur implémentation en Python"
      ]
    },
    {
      "cell_type": "markdown",
      "metadata": {
        "id": "MjSD9J3iPSuD"
      },
      "source": [
        "#### Séparation des features (caractéristiques) et des labels (catégories) en deux variables\n",
        "Ceci est fait car les fonctions de scikit-learn nécessitent de fournir les labels et features séparément"
      ]
    },
    {
      "cell_type": "code",
      "execution_count": null,
      "metadata": {
        "id": "6nA7BwMCPSuD"
      },
      "outputs": [],
      "source": [
        "Xmain = dfmain[dfmain.columns[~dfmain.columns.isin(['class'])]]# Par convention les features sont nommées X. Cette ligne crée une variable Xmain contenant toutes les colonnes de dfmain\n",
        "                                                                #sauf la colonne \"class\"\n",
        "Xmain = Xmain[Xmain.columns[Xmain.columns.isin(['cap_shape_num', 'odor_num', \"habitat_num\"])]] # Nous ne gardons dans Xmain que les colonnes contenant les variables numériques\n",
        "y = dfmain['class'] # Par convention les labels sont nommés y. Ici les lables correspondent à la catégorie des champignons (p pour poisonous, e pour edible)\n",
        "\n",
        "## Imprimons nos labels et features pour nous assurer que tout est en ordre\n",
        "print(\"Features\")\n",
        "print(Xmain)\n",
        "print()\n",
        "print(\"Labels\")\n",
        "print(y)"
      ]
    },
    {
      "cell_type": "markdown",
      "metadata": {
        "id": "2LiDaseQPSuE"
      },
      "source": [
        "#### Séparation des données en jeu de données d'entrainement et jeu de données de test\n",
        "Ce segment de code nous permet de partitionner aléatoirement notre dataset en deux jeux de données. L'un des jeux de données servira à entrainer notre modèle (training dataset), et l'autre à tester si notre modèle prédit correctement nos données (test dataset)\n",
        "\n",
        "Si nous entrainions notre décodeur sur toutes nos données nous ne pourrions pas vérifier si il est capable de prédire la toxicité d'un champignon qu'il n'a jamais \"vu\". La séparation en train et test datasets fait partie de la procédure classique en machine learning\n"
      ]
    },
    {
      "cell_type": "code",
      "execution_count": null,
      "metadata": {
        "id": "R-2qknPyPSuE"
      },
      "outputs": [],
      "source": [
        "from sklearn.model_selection import train_test_split\n",
        "\n",
        "X = np.array(Xmain) #conversion de notre variable Xmain qui est un dataframe en array, un autre type de variable compatible avec les fonctions de scikit-learn\n",
        "x_train, x_test, y_train, y_test = train_test_split(X, y, test_size = 0.1) #Cette fonction sépare aléatoirement notre dataset. Le paramètre test_size indique la proportion\n",
        "                                                                            # du dataset complet qui est gardée de côté comme test dataset. 0.1 correspond à 10% de nos données\n",
        "print(\"Forme de notre dataset original: \", np.shape(X))\n",
        "print(\"Forme de notre dataset d'entrainement: \", np.shape(x_train))\n",
        "print(\"Forme de notre dataset de test: \", np.shape(x_test))"
      ]
    },
    {
      "cell_type": "markdown",
      "metadata": {
        "id": "Ja_Zv1FaPSuE"
      },
      "source": [
        "#### Création d'un décodeur Support Vector Classifier (SVC)"
      ]
    },
    {
      "cell_type": "code",
      "execution_count": null,
      "metadata": {
        "id": "2BKG6Z47PSuE"
      },
      "outputs": [],
      "source": [
        "from sklearn.svm import SVC\n",
        "from sklearn import metrics\n",
        "\n",
        "model = SVC() #Création d'un décodeur de type Support Vector Classifier. Pour l'instant ce décodeur est 'naïf', il n'a pas été entrainé sur nos données\n",
        "\n",
        "###########################\n",
        "## Entrainement du décodeur\n",
        "model.fit(x_train, y_train) #la fonction \"fit\" permet de \"montrer les données\" au décodeur. Le décodeur va essayer de trouver un lien statistique entre les différentes features\n",
        "                            # (forme du chapeau, odeur, habitat), et les labels présentés (edible/poisonous)\n",
        "\n",
        "##############################\n",
        "# Prédiction avec notre modèle\n",
        "y_pred = model.predict(x_test) #Maintenant que notre décodeur est entrainé nous allons testé si il fonctionne. Pour cela nous allons lui demander de prédire si les champignons du dataset de test\n",
        "                                # sont comestible. Notez que nous fournissons à notre modèle uniquement les features (x_test) et pas les labels\n",
        "\n",
        "######################\n",
        "# Evaluation du modèle\n",
        "acu = metrics.accuracy_score(y_test, y_pred) #Cette fonction compare les prédictions du modèle avec les véritables labels (y_test), et nous indique sa précision (dans quel proportion\n",
        "                                                # le modèle à répondu correctement)\n",
        "print(\"Notre modèle réponds correctement dans \", acu*100, \"% des cas\")"
      ]
    },
    {
      "cell_type": "markdown",
      "metadata": {
        "id": "YmkIqpAlPSuE"
      },
      "source": [
        "#### Question :  Qu'observez-vous au niveau des performances du modèle si vous executez à nouveau les cellules \"Séparation des données\" et \"Création d'un décodeur\"? Pourquoi?"
      ]
    },
    {
      "cell_type": "code",
      "execution_count": null,
      "metadata": {
        "id": "aVkBqRRlPSuE"
      },
      "outputs": [],
      "source": []
    },
    {
      "cell_type": "markdown",
      "metadata": {
        "id": "bVtNKrzmPSuE"
      },
      "source": [
        "### Mise en pratique :\n",
        "\n",
        "#### Vous avez trouvé dans des herbes (habitat = l) un champignon dont le chapeau a une forme plate ( cap_form = f) et sentant l'anis (odor = l). Qu'en dit notre décodeur?"
      ]
    },
    {
      "cell_type": "code",
      "execution_count": null,
      "metadata": {
        "id": "tlgOeSH6PSuE"
      },
      "outputs": [],
      "source": [
        "champignon_inconnu = np.array([2,3,2]) # [\"f\", 'l', 'l'] correspondent à [2,3,2] si nous convertissons en valeur numériques\n",
        "\n",
        "############################################\n",
        "## Demandons à notre décodeur ce qu'il pense de notre champignon\n",
        "pred = model.predict(champignon_inconnu.reshape(1, -1))\n",
        "\n",
        "if pred == 'p':\n",
        "    print(\"Ne mangez pas ce champignon il est toxique\")\n",
        "if pred == \"e\":\n",
        "    print(\"Vous pouvez manger ce champignon, il est comestible\")\n",
        "print()\n",
        "print('Rappel, notre décodeur est précis à '+str(acu*100)+'%, mangez-vous le champignon?')"
      ]
    },
    {
      "cell_type": "markdown",
      "source": [
        "#### Pour aller plus loin:\n",
        "\n",
        "Vous trouverez ici le code original utilisant le dataset complet et un séquence de machine learning plus détaillée\n",
        "- Original code : https://github.com/learndataa/projects/blob/main/i61_sk58_SL_36__project_mushroom.ipynb"
      ],
      "metadata": {
        "id": "yw4CvA_SJgPs"
      }
    }
  ],
  "metadata": {
    "kernelspec": {
      "display_name": "Python 3 (ipykernel)",
      "language": "python",
      "name": "python3"
    },
    "language_info": {
      "codemirror_mode": {
        "name": "ipython",
        "version": 3
      },
      "file_extension": ".py",
      "mimetype": "text/x-python",
      "name": "python",
      "nbconvert_exporter": "python",
      "pygments_lexer": "ipython3",
      "version": "3.12.2"
    },
    "colab": {
      "provenance": [],
      "collapsed_sections": [
        "ml2xAmIZPSty",
        "R5sdgUSiPSt0",
        "lei-oXVDPSt2",
        "40DUh-KuPSt4",
        "YtkwUoq6PSt6",
        "gIIhpoBjPSt7"
      ],
      "include_colab_link": true
    }
  },
  "nbformat": 4,
  "nbformat_minor": 0
}